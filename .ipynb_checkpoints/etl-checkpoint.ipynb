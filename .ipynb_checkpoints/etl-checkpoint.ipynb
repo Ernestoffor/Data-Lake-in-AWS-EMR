{
 "cells": [
  {
   "cell_type": "code",
   "execution_count": 21,
   "metadata": {},
   "outputs": [],
   "source": [
    "import configparser\n",
    "from datetime import datetime\n",
    "import os\n",
    "from pyspark.sql import SparkSession\n",
    "from pyspark.sql.functions import udf, col\n",
    "from pyspark.sql.functions import year, month, dayofmonth, hour, weekofyear, date_format, dayofyear\n",
    "from pyspark.sql import functions as F\n",
    "from pyspark.sql import types as Ty\n",
    "#import org.apache.spark.sql.functions._\n",
    "from pyspark.sql.functions import monotonically_increasing_id"
   ]
  },
  {
   "cell_type": "code",
   "execution_count": 22,
   "metadata": {},
   "outputs": [
    {
     "data": {
      "text/plain": [
       "['dl.cfg']"
      ]
     },
     "execution_count": 22,
     "metadata": {},
     "output_type": "execute_result"
    }
   ],
   "source": [
    "config = configparser.ConfigParser()\n",
    "config.read('dl.cfg')"
   ]
  },
  {
   "cell_type": "markdown",
   "metadata": {},
   "source": [
    "os.environ['AWS_ACCESS_KEY_ID']=config['KEYS']['AWS_ACCESS_KEY_ID']\n",
    "os.environ['AWS_SECRET_ACCESS_KEY']=config['KEYS']['AWS_SECRET_ACCESS_KEY']\n"
   ]
  },
  {
   "cell_type": "code",
   "execution_count": null,
   "metadata": {},
   "outputs": [],
   "source": [
    "os.environ['AWS_ACCESS_KEY_ID']=\"**************************\"\n",
    "os.environ['AWS_SECRET_ACCESS_KEY']=\"****************************************\""
   ]
  },
  {
   "cell_type": "markdown",
   "metadata": {},
   "source": [
    "### Define a function that creates a spark session"
   ]
  },
  {
   "cell_type": "code",
   "execution_count": 24,
   "metadata": {},
   "outputs": [],
   "source": [
    "def create_spark_session():\n",
    "    \"\"\"\n",
    "    Defines spark session\n",
    "    RETURNS:\n",
    "        * spark\n",
    "    \"\"\"\n",
    "    spark = SparkSession \\\n",
    "        .builder \\\n",
    "        .config(\"spark.jars.packages\",\\\n",
    "        \"org.apache.hadoop:hadoop-aws:2.7.5\") \\\n",
    "        .getOrCreate()\n",
    "    return spark"
   ]
  },
  {
   "cell_type": "markdown",
   "metadata": {},
   "source": [
    "### Import different data types from pyspark.sql.types"
   ]
  },
  {
   "cell_type": "code",
   "execution_count": 25,
   "metadata": {},
   "outputs": [],
   "source": [
    "from pyspark.sql.types import StructType as ST, StructField as SF, DoubleType as Db, IntegerType as INT,\\\n",
    "StringType as S, DateType as DT, TimestampType as T, LongType as L"
   ]
  },
  {
   "cell_type": "markdown",
   "metadata": {},
   "source": [
    "### Define a Schema for the song_data dataset to be read properly. "
   ]
  },
  {
   "cell_type": "code",
   "execution_count": 26,
   "metadata": {},
   "outputs": [],
   "source": [
    "songSchema = ST([\n",
    "    SF(\"num_songs\", L()),\n",
    "    SF(\"artist_id\", S()),\n",
    "    SF(\"artist_latitude\", Db()),\n",
    "    SF(\"artist_longitude\", Db()),\n",
    "    SF(\"artist_location\", S()),\n",
    "    SF(\"artist_name\", S()),\n",
    "    SF(\"song_id\", S()),\n",
    "    SF(\"title\", S()),\n",
    "    SF(\"duration\", Db()),\n",
    "    SF(\"year\", INT())\n",
    "])"
   ]
  },
  {
   "cell_type": "markdown",
   "metadata": {},
   "source": [
    "### Define a Schema for the log_data dataset to be read properly. "
   ]
  },
  {
   "cell_type": "code",
   "execution_count": 27,
   "metadata": {},
   "outputs": [],
   "source": [
    "logSchema = ST([\n",
    "    SF(\"artist\", S()),\n",
    "    SF(\"auth\", S()),\n",
    "    SF(\"firstName\", S()),\n",
    "    SF(\"gender\", S()),\n",
    "    SF(\"itemInSession\", INT()),\n",
    "    SF(\"lastName\", S()),\n",
    "    SF(\"length\", Db()),\n",
    "    SF(\"level\", S()),\n",
    "    SF(\"location\", S()),\n",
    "    SF(\"method\", S()),\n",
    "    SF(\"page\", S()),\n",
    "    SF(\"registration\", Db()),\n",
    "    SF(\"sessionId\", INT()),\n",
    "    SF(\"song\", S()),\n",
    "    SF(\"status\", INT()),\n",
    "    SF(\"userAgent\", S()),\n",
    "    SF(\"userId\", L())\n",
    "])"
   ]
  },
  {
   "cell_type": "markdown",
   "metadata": {},
   "source": [
    "### Define a function that processes the song dataset"
   ]
  },
  {
   "cell_type": "code",
   "execution_count": 28,
   "metadata": {},
   "outputs": [],
   "source": [
    "def process_song_data(spark, input_data, output_data):\n",
    "    \"\"\"\n",
    "    Function to read song_data dataset, extract song_table and artists_table from it and save them in parquet format\n",
    "    INPUTS/ARGUMENTS:\n",
    "        * spark: spark session/context\n",
    "        * input_data: defines an S3 bucket directory storing the dataset\n",
    "        * output_data: defines an S3 bucket for saving the extracted data/tables in parquet format\n",
    "    RETURNS:\n",
    "        * song_data dataframe to be used in another function    \n",
    "    \"\"\"\n",
    "    # get filepath to song data file\n",
    "    song_data_path = os.path.join(input_data, \"song_data/*/*/*/*.json\")\n",
    "    # read song data file\n",
    "    song_data = spark.read.json(song_data_path, schema=songSchema, mode=\"DROMALFORMED\")\n",
    "    \n",
    "    # save song_data in parquet format\n",
    "    song_data.write.mode(\"overwrite\").parquet(os.path.join(output_data, \"song_data1\"))\n",
    "    \n",
    "    # Extract songs_table\n",
    "    songs_table = song_data.select(\"song_id\", \"title\", \"artist_id\", \"year\", \"duration\")\n",
    "        \n",
    "    # write songs table to parquet files partitioned by year and artist\n",
    "    creation_time = datetime.now().strftime(\"%Y-%m-%d-%H-%M-%S-%f\")\n",
    "    song_table_output_path1 = output_data + \"songs_table\" + creation_time\n",
    "    song_table_output_path = os.path.join(output_data, \"songs_table\")\n",
    "    #songs_table.write.partitionBy(\"year\", \"artist_id\").parquet(song_table_output_path1)\n",
    "    songs_table.write.mode(\"overwrite\").partitionBy(\"year\", \"artist_id\").parquet(song_table_output_path)\n",
    "\n",
    "    # extract columns to create artists table\n",
    "    artists_table = song_data.select(\"artist_id\", \"artist_name\" , \"artist_location\", \"artist_latitude\", \"artist_longitude\")\n",
    "    # write artists table to parquet files\n",
    "    artists_table_output_path = os.path.join(output_data, \"artists_table\") \n",
    "    artists_table.write.mode(\"overwrite\").parquet(artists_table_output_path)\n",
    "    \n",
    "    return song_data \n"
   ]
  },
  {
   "cell_type": "markdown",
   "metadata": {},
   "source": [
    "### Define a function to process log data"
   ]
  },
  {
   "cell_type": "code",
   "execution_count": 29,
   "metadata": {},
   "outputs": [],
   "source": [
    "def process_log_data(spark, input_data, output_data, process_song_data):\n",
    "    \"\"\"\n",
    "    Procedure to read log_data dataset in S3, extracts users_table, time_table and save them in parquet format.\n",
    "    It also processes the log_data and song_data datasets to create songplays_table and writes it in parquet format save to \n",
    "    to an S3 directory.\n",
    "    INPUTS/ARGUMENTS:\n",
    "        * spark: spark session/context\n",
    "        * input_data: defines an S3 bucket directory storing the dataset\n",
    "        * output_data: defines an S3 bucket for saving the extracted data/tables in parquet format\n",
    "        * process_song_data: a function that returns song_data dataframe previously defined above\n",
    "    RETURNS:\n",
    "        * None   \n",
    "    \"\"\"\n",
    "    # get filepath to log data file\n",
    "    log_data_path = os.path.join(input_data, \"log_data/*/*/*.json\")\n",
    "\n",
    "    # read log data file\n",
    "    log_data = spark.read.json(log_data_path)\n",
    "    \n",
    "    # Save log data in parquet format\n",
    "    log_data.write.mode(\"overwrite\").parquet(os.path.join(output_data, \"log_data1\"))\n",
    "    # filter by actions for songplays\n",
    "    log_data = log_data.filter(log_data.page==\"NextSong\")\n",
    "    \n",
    "    # extract columns for users table    \n",
    "    users_table = log_data.select(\"userId\", \"firstName\", \"lastName\", \"gender\", \"level\")\n",
    "    \n",
    "    # Save users_table in parquet format\n",
    "    users_table_output_path = os.path.join(output_data, \"users_table\")\n",
    "    users_table.write.mode(\"overwrite\").parquet(users_table_output_path)\n",
    "\n",
    "\n",
    "    # create timestamp column from original timestamp column\n",
    "    get_timestamp = udf(lambda x:  (x/1000.0) , Ty.DoubleType()) \n",
    "    log_data = log_data.withColumn(\"start_time\", get_timestamp(log_data.ts))\n",
    "    \n",
    "    \n",
    "    # create datetime column from original timestamp column\n",
    "    get_datetime = udf(lambda x: datetime.fromtimestamp(x), Ty.TimestampType())\n",
    "    log_data = log_data.withColumn('datetime', get_datetime('start_time'))\n",
    "    \n",
    "    # create a temporary view for the log_data\n",
    "    log_data.createOrReplaceTempView(\"log\")\n",
    "         \n",
    "    # extract columns to create time table\n",
    "    time_table = spark.sql(\"\"\"\n",
    "            SELECT start_time, hour(datetime) as hour, \n",
    "            dayofmonth(datetime) as day, weekofyear(datetime) as week_of_the_year,\n",
    "            month(datetime) as month, year(datetime) as year\n",
    "            \n",
    "            FROM log\n",
    "    \"\"\")\n",
    "  \n",
    "    # write time table to parquet files partitioned by year and month\n",
    "    time_output = os.path.join(output_data, \"time_table\") \n",
    "    time_table.write.mode(\"overwrite\").partitionBy(\"year\", \"month\").parquet(time_output)\n",
    "\n",
    "    # call the process_song_data function previously defined\n",
    "    song_df = process_song_data(spark, input_data, output_data)\n",
    "    \n",
    "    # Create a temporary view of the song_df \n",
    "    song_df.createOrReplaceTempView(\"songs\")\n",
    "    \n",
    "    # Add songplay_id to the log_data \n",
    "    log_data = log_data.withColumn(\"songplay_id\", monotonically_increasing_id())\n",
    "    \n",
    "    # extract columns from joined song and log datasets to create songplays table \n",
    "    #songplay_id, start_time, user_id, level, song_id, artist_id, session_id, location, user_agent\n",
    "    songplays_table = log_data.join(song_df, (log_data.song == song_df.title) & \n",
    "                              (log_data.artist == song_df.artist_name) & (log_data.length == song_df.duration), \n",
    "                              'left_outer')\\\n",
    "        .select(\n",
    "            log_data.songplay_id,\n",
    "            log_data.datetime.alias(\"start_time\"),\n",
    "            col(\"userId\").alias('user_id'),\n",
    "            log_data.level,\n",
    "            song_df.song_id,\n",
    "            song_df.artist_id,\n",
    "            col(\"sessionId\").alias(\"session_id\"),\n",
    "            log_data.location,\n",
    "            col(\"useragent\").alias(\"user_agent\"),\n",
    "            year('datetime').alias('year'),\n",
    "            month('datetime').alias('month'))    \n",
    "\n",
    "    # write songplays table to parquet files partitioned by year and month\n",
    "    songplays_table_output_path = os.path.join(output_data, \"songplays_table\")\n",
    "    songplays_table.write.mode(\"overwrite\").partitionBy(\"year\", \"month\").parquet(songplays_table_output_path)\n",
    "    "
   ]
  },
  {
   "cell_type": "code",
   "execution_count": 30,
   "metadata": {},
   "outputs": [],
   "source": [
    "def main():\n",
    "    spark = create_spark_session()\n",
    "    input_data = \"s3a://udacity-dend/\"\n",
    "    \n",
    "    #input_data = \"s3a://data-lake-ernest/\"\n",
    "    output_data = \"s3a://data-lake-ernest/\"\n",
    "    \n",
    "    \n",
    "    process_song_data(spark, input_data, output_data)    \n",
    "    process_log_data(spark, input_data, output_data, process_song_data)\n",
    "\n",
    "\n",
    "if __name__ == \"__main__\":\n",
    "    main()"
   ]
  },
  {
   "cell_type": "markdown",
   "metadata": {},
   "source": [
    "### Query the tables"
   ]
  },
  {
   "cell_type": "code",
   "execution_count": 31,
   "metadata": {},
   "outputs": [
    {
     "name": "stdout",
     "output_type": "stream",
     "text": [
      "The number records in the artists_table is 71\n",
      "+-------+------------------+\n",
      "|summary|       songplay_id|\n",
      "+-------+------------------+\n",
      "|  count|              6820|\n",
      "|   mean|            3409.5|\n",
      "| stddev|1968.9087502133425|\n",
      "|    min|                 0|\n",
      "|    max|              6819|\n",
      "+-------+------------------+\n",
      "\n",
      "The number of records in songs_table is 71\n",
      "The number of records in songplays_table is 6820\n",
      "The number of records in time_table is 6820\n",
      "The number of records in users_table is 6820\n"
     ]
    }
   ],
   "source": [
    "spark = create_spark_session()\n",
    "artist = spark.read.parquet(\"s3a://data-lake-ernest/artists_table\")\n",
    "print(\"The number records in the artists_table is {}\".format(artist.count()))\n",
    "songs = spark.read.parquet(\"s3a://data-lake-ernest/songs_table\")\n",
    "songplays = spark.read.parquet(\"s3a://data-lake-ernest/songplays_table\")\n",
    "time = spark.read.parquet(\"s3a://data-lake-ernest/time_table\")\n",
    "users = spark.read.parquet(\"s3a://data-lake-ernest/users_table\")\n",
    "#songs.describe(\"year\").show()\n",
    "songplays.dropDuplicates()\n",
    "songplays.describe(\"songplay_id\").show()\n",
    "print(\"The number of records in songs_table is {}\".format(songs.count()))\n",
    "print(\"The number of records in songplays_table is {}\".format(songplays.count()))\n",
    "print(\"The number of records in time_table is {}\".format(time.count()))\n",
    "print(\"The number of records in users_table is {}\".format(users.count()))\n"
   ]
  },
  {
   "cell_type": "code",
   "execution_count": null,
   "metadata": {},
   "outputs": [],
   "source": []
  }
 ],
 "metadata": {
  "kernelspec": {
   "display_name": "Python 3",
   "language": "python",
   "name": "python3"
  },
  "language_info": {
   "codemirror_mode": {
    "name": "ipython",
    "version": 3
   },
   "file_extension": ".py",
   "mimetype": "text/x-python",
   "name": "python",
   "nbconvert_exporter": "python",
   "pygments_lexer": "ipython3",
   "version": "3.7.6"
  }
 },
 "nbformat": 4,
 "nbformat_minor": 4
}
